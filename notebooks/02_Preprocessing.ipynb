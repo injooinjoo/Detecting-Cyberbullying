# 02_Preprocessing.ipynb

import pandas as pd
from sklearn.feature_extraction.text import TfidfVectorizer
from sklearn.model_selection import train_test_split

# 데이터 로드
data = pd.read_csv('../data/raw/twitter_cyberbullying.csv')

# 텍스트 전처리
def preprocess_text(text):
    # 소문자 변환, 구두점 제거 등
    text = text.lower()
    text = ''.join([char for char in text if char.isalnum() or char == ' '])
    return text

data['tweet_text'] = data['tweet_text'].apply(preprocess_text)

# TF-IDF 벡터화
vectorizer = TfidfVectorizer(max_features=500)
X = vectorizer.fit_transform(data['tweet_text'])
y = data['cyberbullying_type']

# 데이터 분할
X_train, X_test, y_train, y_test = train_test_split(X, y, test_size=0.2, random_state=42)

# 저장
pd.DataFrame(X_train.toarray()).to_csv('../data/processed/X_train.csv', index=False)
pd.DataFrame(X_test.toarray()).to_csv('../data/processed/X_test.csv', index=False)
y_train.to_csv('../data/processed/y_train.csv', index=False)
y_test.to_csv('../data/processed/y_test.csv', index=False)
