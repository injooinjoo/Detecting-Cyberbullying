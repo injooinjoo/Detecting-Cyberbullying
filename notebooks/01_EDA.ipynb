# 01_EDA.ipynb

import pandas as pd
import matplotlib.pyplot as plt
from wordcloud import WordCloud

# 데이터 로드
data = pd.read_csv('../data/raw/twitter_cyberbullying.csv')

# 데이터 탐색
print(data.head())
print(data['cyberbullying_type'].value_counts())

# 워드 클라우드 생성
def generate_wordcloud(text):
    wordcloud = WordCloud(width=800, height=400, background_color='white').generate(text)
    plt.figure(figsize=(10, 5))
    plt.imshow(wordcloud, interpolation='bilinear')
    plt.axis('off')
    plt.show()

# 각 카테고리별 워드 클라우드
for category in data['cyberbullying_type'].unique():
    text = ' '.join(data[data['cyberbullying_type'] == category]['tweet_text'])
    print(f"Word Cloud for {category}:")
    generate_wordcloud(text)
